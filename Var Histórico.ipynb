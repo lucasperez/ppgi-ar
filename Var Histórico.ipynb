{
 "cells": [
  {
   "cell_type": "code",
   "execution_count": 15,
   "metadata": {},
   "outputs": [],
   "source": [
    "# importando bibliotecas\n",
    "library('httr')\n",
    "library(\"jsonlite\")"
   ]
  },
  {
   "cell_type": "code",
   "execution_count": 16,
   "metadata": {},
   "outputs": [],
   "source": [
    "# montando a carteira. Depois vamos pegar de algum lugar ou montar uma carteira mais real\n",
    "carteiraJSON <- '[\n",
    "  {\"symbol\" : \"ALPA4\", \"Position\" : 790000, \"Price\" : 12.22},\n",
    "  {\"symbol\" : \"COCE5\", \"Position\" : 100, \"Price\" : 42.70}\n",
    "]'\n",
    "\n",
    "carteira <- fromJSON(carteiraJSON)"
   ]
  },
  {
   "cell_type": "code",
   "execution_count": 17,
   "metadata": {},
   "outputs": [
    {
     "name": "stdout",
     "output_type": "stream",
     "text": [
      "       5%        1% \n",
      "-300579.4 -413096.7 \n"
     ]
    }
   ],
   "source": [
    "#pegando histórico de variação dos precos\n",
    "query <- \"http://api.informativos.io/prices_matrix?start_date=2016-08-24&end_date=2018-08-24&symbols[]=ALPA4&symbols[]=COCE5\"\n",
    "response <- content(GET(url=query), \"text\")\n",
    "\n",
    "# transformando num dataframe\n",
    "data <- as.data.frame(fromJSON(response, simplifyDataFrame = TRUE), stringsAsFactors=FALSE)\n",
    "\n",
    "#ajustando os dados\n",
    "normalize_data <- function(df) {\n",
    "  names(df) <- as.character(unlist(df[1,]))\n",
    "  df[-1,]\n",
    "}\n",
    "precos <- normalize_data(data)\n",
    "\n",
    "#criando estrutura que irá guardar os dados aplicados\n",
    "precos_aplicados <- data.frame(\"Data\" = c(), \"Ativo\" = c(), \"Financeiro\" = c(), stringsAsFactors = FALSE)\n",
    "\n",
    "# iterando sobre a carteira\n",
    "for (linha_carteira in 1:nrow(carteira)) {\n",
    "    ativo <- carteira[linha_carteira, \"symbol\"]\n",
    "    preco_original <- carteira[linha_carteira, \"Price\"]\n",
    "    posicao_original <- carteira[linha_carteira, \"Position\"]\n",
    "    financeiro_original <- preco_original * posicao_original\n",
    "    #iterando sobre os precos\n",
    "    for (linha_preco in 1:nrow(precos)) {\n",
    "        # Aplicando na carteira\n",
    "        change <- sapply(precos[linha_preco, ativo], as.numeric)\n",
    "        perda_e_ganho <- financeiro_original * change        \n",
    "        precos_aplicados <- rbind(precos_aplicados, data.frame(\"Data\"=precos[linha_preco, \"Date\"], \"Ativo\"=ativo, \"Financeiro\"=perda_e_ganho))\n",
    "    }    \n",
    "}\n",
    "\n",
    "# ajustando indices do dataframe\n",
    "rownames(precos_aplicados) <- 1:nrow(precos_aplicados)\n",
    "\n",
    "#agrupando por dia e somando os retornos\n",
    "perda_ganho_agrupado <- aggregate(Financeiro ~ Data,precos_aplicados,sum);\n",
    "\n",
    "#ordenando os dados\n",
    "ordenado <- perda_ganho_agrupado[order(perda_ganho_agrupado$Financeiro),]\n",
    "\n",
    "#calculando o Var de 95% e 99%\n",
    "var <- quantile(ordenado$Financeiro, probs=c(0.05, 0.01)) \n",
    "\n",
    "#imprimindo resultado\n",
    "print(var)\n",
    "\n",
    "# hist(var)\n"
   ]
  },
  {
   "cell_type": "code",
   "execution_count": null,
   "metadata": {},
   "outputs": [],
   "source": []
  }
 ],
 "metadata": {
  "kernelspec": {
   "display_name": "R",
   "language": "R",
   "name": "ir"
  },
  "language_info": {
   "codemirror_mode": "r",
   "file_extension": ".r",
   "mimetype": "text/x-r-source",
   "name": "R",
   "pygments_lexer": "r",
   "version": "3.5.0"
  }
 },
 "nbformat": 4,
 "nbformat_minor": 2
}
