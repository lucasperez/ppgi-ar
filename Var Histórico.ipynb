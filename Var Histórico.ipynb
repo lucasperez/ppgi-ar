{
 "cells": [
  {
   "cell_type": "code",
   "execution_count": 195,
   "metadata": {},
   "outputs": [],
   "source": [
    "# importando bibliotecas\n",
    "library('httr')\n",
    "library(\"jsonlite\")"
   ]
  },
  {
   "cell_type": "code",
   "execution_count": 196,
   "metadata": {},
   "outputs": [],
   "source": [
    "# montando a carteira. Depois vamos pegar de algum lugar ou montar uma carteira mais real\n",
    "carteiraJSON <- '[\n",
    "  {\"symbol\" : \"PETR4\", \"Position\" : 1000, \"Price\" : 10}, \n",
    "  {\"symbol\" : \"BBDC4\", \"Position\" : 2000, \"Price\" : 5}\n",
    "]' \n",
    "\n",
    "carteira <- fromJSON(carteiraJSON)"
   ]
  },
  {
   "cell_type": "code",
   "execution_count": 198,
   "metadata": {},
   "outputs": [
    {
     "data": {
      "text/html": [
       "<table>\n",
       "<thead><tr><th scope=col>Data</th><th scope=col>Ativo</th><th scope=col>Preco</th></tr></thead>\n",
       "<tbody>\n",
       "\t<tr><td>2018-08-14</td><td>PETR4     </td><td>9.999501  </td></tr>\n",
       "\t<tr><td>2018-08-15</td><td>PETR4     </td><td>9.999002  </td></tr>\n",
       "\t<tr><td>2018-08-16</td><td>PETR4     </td><td>9.952455  </td></tr>\n",
       "\t<tr><td>2018-08-17</td><td>PETR4     </td><td>9.947206  </td></tr>\n",
       "\t<tr><td>2018-08-14</td><td>BBDC4     </td><td>5.017018  </td></tr>\n",
       "\t<tr><td>2018-08-15</td><td>BBDC4     </td><td>5.034037  </td></tr>\n",
       "\t<tr><td>2018-08-16</td><td>BBDC4     </td><td>5.021989  </td></tr>\n",
       "\t<tr><td>2018-08-17</td><td>BBDC4     </td><td>5.021989  </td></tr>\n",
       "</tbody>\n",
       "</table>\n"
      ],
      "text/latex": [
       "\\begin{tabular}{r|lll}\n",
       " Data & Ativo & Preco\\\\\n",
       "\\hline\n",
       "\t 2018-08-14 & PETR4      & 9.999501  \\\\\n",
       "\t 2018-08-15 & PETR4      & 9.999002  \\\\\n",
       "\t 2018-08-16 & PETR4      & 9.952455  \\\\\n",
       "\t 2018-08-17 & PETR4      & 9.947206  \\\\\n",
       "\t 2018-08-14 & BBDC4      & 5.017018  \\\\\n",
       "\t 2018-08-15 & BBDC4      & 5.034037  \\\\\n",
       "\t 2018-08-16 & BBDC4      & 5.021989  \\\\\n",
       "\t 2018-08-17 & BBDC4      & 5.021989  \\\\\n",
       "\\end{tabular}\n"
      ],
      "text/markdown": [
       "\n",
       "Data | Ativo | Preco | \n",
       "|---|---|---|---|---|---|---|---|\n",
       "| 2018-08-14 | PETR4      | 9.999501   | \n",
       "| 2018-08-15 | PETR4      | 9.999002   | \n",
       "| 2018-08-16 | PETR4      | 9.952455   | \n",
       "| 2018-08-17 | PETR4      | 9.947206   | \n",
       "| 2018-08-14 | BBDC4      | 5.017018   | \n",
       "| 2018-08-15 | BBDC4      | 5.034037   | \n",
       "| 2018-08-16 | BBDC4      | 5.021989   | \n",
       "| 2018-08-17 | BBDC4      | 5.021989   | \n",
       "\n",
       "\n"
      ],
      "text/plain": [
       "  Data       Ativo Preco   \n",
       "1 2018-08-14 PETR4 9.999501\n",
       "2 2018-08-15 PETR4 9.999002\n",
       "3 2018-08-16 PETR4 9.952455\n",
       "4 2018-08-17 PETR4 9.947206\n",
       "5 2018-08-14 BBDC4 5.017018\n",
       "6 2018-08-15 BBDC4 5.034037\n",
       "7 2018-08-16 BBDC4 5.021989\n",
       "8 2018-08-17 BBDC4 5.021989"
      ]
     },
     "metadata": {},
     "output_type": "display_data"
    },
    {
     "data": {
      "text/html": [
       "<table>\n",
       "<thead><tr><th></th><th scope=col>Data</th><th scope=col>Ativo</th><th scope=col>Preco</th></tr></thead>\n",
       "<tbody>\n",
       "\t<tr><th scope=row>5</th><td>2018-08-14</td><td>BBDC4     </td><td>5.017018  </td></tr>\n",
       "\t<tr><th scope=row>7</th><td>2018-08-16</td><td>BBDC4     </td><td>5.021989  </td></tr>\n",
       "\t<tr><th scope=row>8</th><td>2018-08-17</td><td>BBDC4     </td><td>5.021989  </td></tr>\n",
       "\t<tr><th scope=row>6</th><td>2018-08-15</td><td>BBDC4     </td><td>5.034037  </td></tr>\n",
       "\t<tr><th scope=row>4</th><td>2018-08-17</td><td>PETR4     </td><td>9.947206  </td></tr>\n",
       "\t<tr><th scope=row>3</th><td>2018-08-16</td><td>PETR4     </td><td>9.952455  </td></tr>\n",
       "\t<tr><th scope=row>2</th><td>2018-08-15</td><td>PETR4     </td><td>9.999002  </td></tr>\n",
       "\t<tr><th scope=row>1</th><td>2018-08-14</td><td>PETR4     </td><td>9.999501  </td></tr>\n",
       "</tbody>\n",
       "</table>\n"
      ],
      "text/latex": [
       "\\begin{tabular}{r|lll}\n",
       "  & Data & Ativo & Preco\\\\\n",
       "\\hline\n",
       "\t5 & 2018-08-14 & BBDC4      & 5.017018  \\\\\n",
       "\t7 & 2018-08-16 & BBDC4      & 5.021989  \\\\\n",
       "\t8 & 2018-08-17 & BBDC4      & 5.021989  \\\\\n",
       "\t6 & 2018-08-15 & BBDC4      & 5.034037  \\\\\n",
       "\t4 & 2018-08-17 & PETR4      & 9.947206  \\\\\n",
       "\t3 & 2018-08-16 & PETR4      & 9.952455  \\\\\n",
       "\t2 & 2018-08-15 & PETR4      & 9.999002  \\\\\n",
       "\t1 & 2018-08-14 & PETR4      & 9.999501  \\\\\n",
       "\\end{tabular}\n"
      ],
      "text/markdown": [
       "\n",
       "| <!--/--> | Data | Ativo | Preco | \n",
       "|---|---|---|---|---|---|---|---|\n",
       "| 5 | 2018-08-14 | BBDC4      | 5.017018   | \n",
       "| 7 | 2018-08-16 | BBDC4      | 5.021989   | \n",
       "| 8 | 2018-08-17 | BBDC4      | 5.021989   | \n",
       "| 6 | 2018-08-15 | BBDC4      | 5.034037   | \n",
       "| 4 | 2018-08-17 | PETR4      | 9.947206   | \n",
       "| 3 | 2018-08-16 | PETR4      | 9.952455   | \n",
       "| 2 | 2018-08-15 | PETR4      | 9.999002   | \n",
       "| 1 | 2018-08-14 | PETR4      | 9.999501   | \n",
       "\n",
       "\n"
      ],
      "text/plain": [
       "  Data       Ativo Preco   \n",
       "5 2018-08-14 BBDC4 5.017018\n",
       "7 2018-08-16 BBDC4 5.021989\n",
       "8 2018-08-17 BBDC4 5.021989\n",
       "6 2018-08-15 BBDC4 5.034037\n",
       "4 2018-08-17 PETR4 9.947206\n",
       "3 2018-08-16 PETR4 9.952455\n",
       "2 2018-08-15 PETR4 9.999002\n",
       "1 2018-08-14 PETR4 9.999501"
      ]
     },
     "metadata": {},
     "output_type": "display_data"
    }
   ],
   "source": [
    "#pegando histórico de variação dos precos\n",
    "query <- \"http://api.informativos.io/prices_matrix?start_date=2018-08-13&end_date=2018-08-17&symbols[]=PETR4&symbols[]=BBDC4\"\n",
    "response <- content(GET(url=query), \"text\")\n",
    "\n",
    "# transformando num dataframe\n",
    "data <- as.data.frame(fromJSON(response, simplifyDataFrame = TRUE), stringsAsFactors=FALSE)\n",
    "\n",
    "#colocando a primeira linha como cabecalho\n",
    "normalize_data <- function(df) {\n",
    "  names(df) <- as.character(unlist(df[1,]))\n",
    "  df[-1,]\n",
    "}\n",
    "precos <- normalize_data(data)\n",
    "\n",
    "precos_aplicados <- data.frame(\"Data\" = c(), \"Ativo\" = c(), \"Preco\" = c(), stringsAsFactors = FALSE)\n",
    "\n",
    "# iterando sobre a carteira\n",
    "for (linha_carteira in 1:nrow(carteira)) {\n",
    "    ativo <- carteira[linha_carteira, \"symbol\"]\n",
    "    preco_original <- carteira[linha_carteira, \"Price\"]\n",
    "    #iterando sobre os precos\n",
    "    for (linha_preco in 2:nrow(precos)) {\n",
    "        # Aplicando na carteira\n",
    "        # primeiro preco, uso o preco original da carteira\n",
    "        if (linha_preco == 2)\n",
    "            preco_calculado = preco_original + sapply(precos[linha_preco, ativo], as.numeric)\n",
    "        else\n",
    "            preco_calculado = preco_calculado + sapply(precos[linha_preco -1, ativo], as.numeric)\n",
    "        \n",
    "        precos_aplicados <- rbind(precos_aplicados, data.frame(\"Data\"=precos[linha_preco, \"Date\"], \"Ativo\"=ativo, \"Preco\"=preco_calculado))\n",
    "    }    \n",
    "}\n",
    "\n",
    "# ajustando indices do dataframe\n",
    "rownames(precos_aplicados) <- 1:nrow(precos_aplicados)\n",
    "\n",
    "precos_aplicados\n",
    "\n",
    "precos_aplicados[order(precos_aplicados$Preco),]\n",
    "\n"
   ]
  },
  {
   "cell_type": "code",
   "execution_count": null,
   "metadata": {},
   "outputs": [],
   "source": []
  }
 ],
 "metadata": {
  "kernelspec": {
   "display_name": "R",
   "language": "R",
   "name": "ir"
  },
  "language_info": {
   "codemirror_mode": "r",
   "file_extension": ".r",
   "mimetype": "text/x-r-source",
   "name": "R",
   "pygments_lexer": "r",
   "version": "3.5.0"
  }
 },
 "nbformat": 4,
 "nbformat_minor": 2
}
