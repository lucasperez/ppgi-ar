{
 "cells": [
  {
   "cell_type": "code",
   "execution_count": 1,
   "metadata": {},
   "outputs": [],
   "source": [
    "# importando bibliotecas\n",
    "library('httr')\n",
    "library(\"jsonlite\")"
   ]
  },
  {
   "cell_type": "code",
   "execution_count": 2,
   "metadata": {},
   "outputs": [],
   "source": [
    "# montando a carteira. Depois vamos pegar de algum lugar ou montar uma carteira mais real\n",
    "carteiraJSON <- '[\n",
    "  {\"symbol\" : \"ALPA4\", \"Position\" : 790000, \"Price\" : 12.22}\n",
    "]' \n",
    "\n",
    "carteira <- fromJSON(carteiraJSON)"
   ]
  },
  {
   "cell_type": "code",
   "execution_count": 3,
   "metadata": {},
   "outputs": [
    {
     "name": "stdout",
     "output_type": "stream",
     "text": [
      "         Data Financeiro\n",
      "1  2018-08-13   31834.46\n",
      "2  2018-08-14  420420.21\n",
      "3  2018-08-15 -235643.94\n",
      "4  2018-08-16  -23374.82\n",
      "5  2018-08-17 -242126.05\n",
      "6  2018-08-20  260567.34\n",
      "7  2018-08-21 -259215.13\n",
      "8  2018-08-22  258295.65\n",
      "9  2018-08-23   15722.80\n",
      "10 2018-08-24  -62788.94\n",
      "         Data Financeiro\n",
      "7  2018-08-21 -259215.13\n",
      "5  2018-08-17 -242126.05\n",
      "3  2018-08-15 -235643.94\n",
      "10 2018-08-24  -62788.94\n",
      "4  2018-08-16  -23374.82\n",
      "9  2018-08-23   15722.80\n",
      "1  2018-08-13   31834.46\n",
      "8  2018-08-22  258295.65\n",
      "6  2018-08-20  260567.34\n",
      "2  2018-08-14  420420.21\n",
      "       5%        1% \n",
      "-251525.0 -257677.1 \n"
     ]
    }
   ],
   "source": [
    "#pegando histórico de variação dos precos\n",
    "query <- \"http://api.informativos.io/prices_matrix?start_date=2018-08-13&end_date=2018-08-24&symbols[]=ALPA4\"\n",
    "response <- content(GET(url=query), \"text\")\n",
    "\n",
    "# transformando num dataframe\n",
    "data <- as.data.frame(fromJSON(response, simplifyDataFrame = TRUE), stringsAsFactors=FALSE)\n",
    "\n",
    "#ajustando os dados\n",
    "normalize_data <- function(df) {\n",
    "  names(df) <- as.character(unlist(df[1,]))\n",
    "  df[-1,]\n",
    "}\n",
    "precos <- normalize_data(data)\n",
    "\n",
    "#criando estrutura que irá guardar os dados aplicados\n",
    "precos_aplicados <- data.frame(\"Data\" = c(), \"Ativo\" = c(), \"Financeiro\" = c(), stringsAsFactors = FALSE)\n",
    "\n",
    "# iterando sobre a carteira\n",
    "for (linha_carteira in 1:nrow(carteira)) {\n",
    "    ativo <- carteira[linha_carteira, \"symbol\"]\n",
    "    preco_original <- carteira[linha_carteira, \"Price\"]\n",
    "    posicao_original <- carteira[linha_carteira, \"Position\"]\n",
    "    financeiro_original <- preco_original * posicao_original\n",
    "    #iterando sobre os precos\n",
    "    for (linha_preco in 1:nrow(precos)) {\n",
    "        # Aplicando na carteira\n",
    "        change <- sapply(precos[linha_preco, ativo], as.numeric)\n",
    "        perda_e_ganho <- financeiro_original * change        \n",
    "        precos_aplicados <- rbind(precos_aplicados, data.frame(\"Data\"=precos[linha_preco, \"Date\"], \"Ativo\"=ativo, \"Financeiro\"=perda_e_ganho))\n",
    "    }    \n",
    "}\n",
    "\n",
    "# ajustando indices do dataframe\n",
    "rownames(precos_aplicados) <- 1:nrow(precos_aplicados)\n",
    "\n",
    "#agrupando por dia e somando os retornos\n",
    "perda_ganho_agrupado <- aggregate(Financeiro ~ Data,precos_aplicados,sum);\n",
    "\n",
    "print(perda_ganho_agrupado)\n",
    "\n",
    "#ordenando os dados\n",
    "ordenado <- perda_ganho_agrupado[order(perda_ganho_agrupado$Financeiro),]\n",
    "\n",
    "print(ordenado)\n",
    "\n",
    "#calculando o Var de 95% e 99%\n",
    "var <- quantile(ordenado$Financeiro, probs=c(0.05, 0.01)) \n",
    "\n",
    "#imprimindo resultado\n",
    "print(var)\n",
    "\n",
    "\n"
   ]
  },
  {
   "cell_type": "code",
   "execution_count": null,
   "metadata": {},
   "outputs": [],
   "source": []
  }
 ],
 "metadata": {
  "kernelspec": {
   "display_name": "R",
   "language": "R",
   "name": "ir"
  },
  "language_info": {
   "codemirror_mode": "r",
   "file_extension": ".r",
   "mimetype": "text/x-r-source",
   "name": "R",
   "pygments_lexer": "r",
   "version": "3.5.0"
  }
 },
 "nbformat": 4,
 "nbformat_minor": 2
}
